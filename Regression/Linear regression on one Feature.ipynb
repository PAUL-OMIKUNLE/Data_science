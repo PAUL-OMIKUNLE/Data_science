{
 "cells": [
  {
   "cell_type": "markdown",
   "metadata": {},
   "source": [
    "## Linear regression on one Feature"
   ]
  },
  {
   "cell_type": "markdown",
   "metadata": {},
   "source": [
    "### Importing necessary libraries "
   ]
  },
  {
   "cell_type": "code",
   "execution_count": 26,
   "metadata": {},
   "outputs": [],
   "source": [
    "import numpy as np\n",
    "import pandas as pd\n",
    "import matplotlib.pyplot as plt\n",
    "from sklearn.linear_model import LinearRegression"
   ]
  },
  {
   "cell_type": "markdown",
   "metadata": {},
   "source": [
    "### Reading the data-set (uploaded into anaconda directory ) with pandas dataframe "
   ]
  },
  {
   "cell_type": "code",
   "execution_count": 27,
   "metadata": {},
   "outputs": [],
   "source": [
    "data = pd.read_csv('gm_2008_region.csv') "
   ]
  },
  {
   "cell_type": "code",
   "execution_count": 28,
   "metadata": {},
   "outputs": [
    {
     "data": {
      "text/html": [
       "<div>\n",
       "<style scoped>\n",
       "    .dataframe tbody tr th:only-of-type {\n",
       "        vertical-align: middle;\n",
       "    }\n",
       "\n",
       "    .dataframe tbody tr th {\n",
       "        vertical-align: top;\n",
       "    }\n",
       "\n",
       "    .dataframe thead th {\n",
       "        text-align: right;\n",
       "    }\n",
       "</style>\n",
       "<table border=\"1\" class=\"dataframe\">\n",
       "  <thead>\n",
       "    <tr style=\"text-align: right;\">\n",
       "      <th></th>\n",
       "      <th>population</th>\n",
       "      <th>fertility</th>\n",
       "      <th>HIV</th>\n",
       "      <th>CO2</th>\n",
       "      <th>BMI_male</th>\n",
       "      <th>GDP</th>\n",
       "      <th>BMI_female</th>\n",
       "      <th>life</th>\n",
       "      <th>child_mortality</th>\n",
       "      <th>Region</th>\n",
       "    </tr>\n",
       "  </thead>\n",
       "  <tbody>\n",
       "    <tr>\n",
       "      <th>0</th>\n",
       "      <td>34811059.0</td>\n",
       "      <td>2.73</td>\n",
       "      <td>0.1</td>\n",
       "      <td>3.328945</td>\n",
       "      <td>24.59620</td>\n",
       "      <td>12314.0</td>\n",
       "      <td>129.9049</td>\n",
       "      <td>75.3</td>\n",
       "      <td>29.5</td>\n",
       "      <td>Middle East &amp; North Africa</td>\n",
       "    </tr>\n",
       "    <tr>\n",
       "      <th>1</th>\n",
       "      <td>19842251.0</td>\n",
       "      <td>6.43</td>\n",
       "      <td>2.0</td>\n",
       "      <td>1.474353</td>\n",
       "      <td>22.25083</td>\n",
       "      <td>7103.0</td>\n",
       "      <td>130.1247</td>\n",
       "      <td>58.3</td>\n",
       "      <td>192.0</td>\n",
       "      <td>Sub-Saharan Africa</td>\n",
       "    </tr>\n",
       "    <tr>\n",
       "      <th>2</th>\n",
       "      <td>40381860.0</td>\n",
       "      <td>2.24</td>\n",
       "      <td>0.5</td>\n",
       "      <td>4.785170</td>\n",
       "      <td>27.50170</td>\n",
       "      <td>14646.0</td>\n",
       "      <td>118.8915</td>\n",
       "      <td>75.5</td>\n",
       "      <td>15.4</td>\n",
       "      <td>America</td>\n",
       "    </tr>\n",
       "    <tr>\n",
       "      <th>3</th>\n",
       "      <td>2975029.0</td>\n",
       "      <td>1.40</td>\n",
       "      <td>0.1</td>\n",
       "      <td>1.804106</td>\n",
       "      <td>25.35542</td>\n",
       "      <td>7383.0</td>\n",
       "      <td>132.8108</td>\n",
       "      <td>72.5</td>\n",
       "      <td>20.0</td>\n",
       "      <td>Europe &amp; Central Asia</td>\n",
       "    </tr>\n",
       "    <tr>\n",
       "      <th>4</th>\n",
       "      <td>21370348.0</td>\n",
       "      <td>1.96</td>\n",
       "      <td>0.1</td>\n",
       "      <td>18.016313</td>\n",
       "      <td>27.56373</td>\n",
       "      <td>41312.0</td>\n",
       "      <td>117.3755</td>\n",
       "      <td>81.5</td>\n",
       "      <td>5.2</td>\n",
       "      <td>East Asia &amp; Pacific</td>\n",
       "    </tr>\n",
       "  </tbody>\n",
       "</table>\n",
       "</div>"
      ],
      "text/plain": [
       "   population  fertility  HIV        CO2  BMI_male      GDP  BMI_female  life  \\\n",
       "0  34811059.0       2.73  0.1   3.328945  24.59620  12314.0    129.9049  75.3   \n",
       "1  19842251.0       6.43  2.0   1.474353  22.25083   7103.0    130.1247  58.3   \n",
       "2  40381860.0       2.24  0.5   4.785170  27.50170  14646.0    118.8915  75.5   \n",
       "3   2975029.0       1.40  0.1   1.804106  25.35542   7383.0    132.8108  72.5   \n",
       "4  21370348.0       1.96  0.1  18.016313  27.56373  41312.0    117.3755  81.5   \n",
       "\n",
       "   child_mortality                      Region  \n",
       "0             29.5  Middle East & North Africa  \n",
       "1            192.0          Sub-Saharan Africa  \n",
       "2             15.4                     America  \n",
       "3             20.0       Europe & Central Asia  \n",
       "4              5.2         East Asia & Pacific  "
      ]
     },
     "execution_count": 28,
     "metadata": {},
     "output_type": "execute_result"
    }
   ],
   "source": [
    "data.head()"
   ]
  },
  {
   "cell_type": "markdown",
   "metadata": {},
   "source": [
    "### Defining the feature varibles and the target variable by droping child mortality in x and sing it in y"
   ]
  },
  {
   "cell_type": "code",
   "execution_count": 29,
   "metadata": {},
   "outputs": [],
   "source": [
    "x = data.drop(['child_mortality', 'Region'], axis= 1).values\n",
    "y = data['child_mortality'].values"
   ]
  },
  {
   "cell_type": "markdown",
   "metadata": {},
   "source": [
    "### Predicting child_mortality value from a single feature (GDP)."
   ]
  },
  {
   "cell_type": "markdown",
   "metadata": {},
   "source": [
    "#### Naming and Using  x_GDP as column 6, GDP"
   ]
  },
  {
   "cell_type": "code",
   "execution_count": 30,
   "metadata": {},
   "outputs": [
    {
     "data": {
      "text/plain": [
       "(numpy.ndarray, numpy.ndarray)"
      ]
     },
     "execution_count": 30,
     "metadata": {},
     "output_type": "execute_result"
    }
   ],
   "source": [
    "x_GDP = x[:,5]\n",
    "type(x_GDP), type(y)"
   ]
  },
  {
   "cell_type": "code",
   "execution_count": 31,
   "metadata": {},
   "outputs": [
    {
     "name": "stdout",
     "output_type": "stream",
     "text": [
      "[ 12314.   7103.  14646.   7383.  41312.  43952.  14365.  24373.   2265.\n",
      "  16075.  14488.  41641.   8293.   1646.   5663.   5066.  13858.  13906.\n",
      "  15368.   1358.    723.   2442.   2571.  41468.   1753.  18698.  10489.\n",
      "   1440.   5022.  12219.   2854.  21873.  17765.  45017.   2502.   9244.\n",
      "   9974.   7450.  40143.   1088.  24743.   7129.  42122.  37505.  15800.\n",
      "   1566.   5900.  41199.   2907.  32197.   6960.   1230.   1326.   5208.\n",
      "   1600.   4391.  23334.  42294.   3901.   7856.  15955.  47713.  28562.\n",
      "  37475.   8951.  34800.  18797.   2358.  20977.  14158.   2041.    588.\n",
      "  23223.  95001.   1528.    674.  19968.  12029.   1602.  27872.   3356.\n",
      "  14615.  15826.   3890.   7563.   6091.    864.   2891.   1866.  47388.\n",
      "  32122.   4060.    843.   4684.  65216.  47799.   4187.  14033.   1982.\n",
      "   6684.   9249.   5332.  19996.  27747. 126076.  18032.  22506.   1173.\n",
      "   2162.  12522.   1289.  65991.  24670.  30816.    615.  12263.  34676.\n",
      "   6907.   3246.  13470.   5887.  43421.  55020.   2001.   2030.  12216.\n",
      "   1219.  30875.   9938.  16454.   1437.   8762.  37739.  50384.  15317.\n",
      "   3733.   4085.   3039.   1286.]\n",
      "[ 29.5 192.   15.4  20.    5.2   4.6  43.3  14.5  55.9  15.4   7.2   4.7\n",
      "  20.1 116.3  48.1  52.   63.8  18.6  13.7 130.4 108.6  51.5 113.8   5.8\n",
      " 168.    8.9  19.7  91.2  72.6  10.3 116.9   5.9   6.3   4.3  81.   26.8\n",
      "  31.4  21.6 118.4  60.4   5.5  24.    3.3   4.3  68.   87.4  19.3   4.4\n",
      "  79.9   4.9  36.9 121.  127.6  41.9  83.3  26.5   7.2   2.7  65.6  36.2\n",
      "  21.4   4.5   4.9   4.1  18.9   3.4  25.9  71.   10.5  11.3 114.2 100.9\n",
      "   8.2   2.8  66.7 101.1   8.   16.  148.3   6.6 103.   15.8  17.9  17.6\n",
      "  34.8  35.8 114.4  87.2  50.7   4.8   6.4  28.1 141.3 140.9   3.6  11.9\n",
      "  95.5  21.   69.7  25.7  23.2  33.4   6.7   4.1   9.5  16.1  13.5  78.3\n",
      "  75.8   8.  179.1   2.8   8.8   3.7 168.5  66.1   5.   11.7  84.7  26.4\n",
      " 112.2   3.2   4.7  56.2  72.4  15.6  96.4  24.9  19.4  22.2  89.3  12.9\n",
      "   5.6   7.7  13.   49.2  26.2  94.9  98.3]\n"
     ]
    }
   ],
   "source": [
    "print(x_GDP)\n",
    "print (y)"
   ]
  },
  {
   "cell_type": "code",
   "execution_count": 32,
   "metadata": {},
   "outputs": [],
   "source": [
    "y = y.reshape(-1, 1)\n",
    "x_GDP =x_GDP.reshape(-1, 1)"
   ]
  },
  {
   "cell_type": "code",
   "execution_count": 33,
   "metadata": {},
   "outputs": [
    {
     "name": "stdout",
     "output_type": "stream",
     "text": [
      "[[ 12314.]\n",
      " [  7103.]\n",
      " [ 14646.]\n",
      " [  7383.]\n",
      " [ 41312.]\n",
      " [ 43952.]\n",
      " [ 14365.]\n",
      " [ 24373.]\n",
      " [  2265.]\n",
      " [ 16075.]\n",
      " [ 14488.]\n",
      " [ 41641.]\n",
      " [  8293.]\n",
      " [  1646.]\n",
      " [  5663.]\n",
      " [  5066.]\n",
      " [ 13858.]\n",
      " [ 13906.]\n",
      " [ 15368.]\n",
      " [  1358.]\n",
      " [   723.]\n",
      " [  2442.]\n",
      " [  2571.]\n",
      " [ 41468.]\n",
      " [  1753.]\n",
      " [ 18698.]\n",
      " [ 10489.]\n",
      " [  1440.]\n",
      " [  5022.]\n",
      " [ 12219.]\n",
      " [  2854.]\n",
      " [ 21873.]\n",
      " [ 17765.]\n",
      " [ 45017.]\n",
      " [  2502.]\n",
      " [  9244.]\n",
      " [  9974.]\n",
      " [  7450.]\n",
      " [ 40143.]\n",
      " [  1088.]\n",
      " [ 24743.]\n",
      " [  7129.]\n",
      " [ 42122.]\n",
      " [ 37505.]\n",
      " [ 15800.]\n",
      " [  1566.]\n",
      " [  5900.]\n",
      " [ 41199.]\n",
      " [  2907.]\n",
      " [ 32197.]\n",
      " [  6960.]\n",
      " [  1230.]\n",
      " [  1326.]\n",
      " [  5208.]\n",
      " [  1600.]\n",
      " [  4391.]\n",
      " [ 23334.]\n",
      " [ 42294.]\n",
      " [  3901.]\n",
      " [  7856.]\n",
      " [ 15955.]\n",
      " [ 47713.]\n",
      " [ 28562.]\n",
      " [ 37475.]\n",
      " [  8951.]\n",
      " [ 34800.]\n",
      " [ 18797.]\n",
      " [  2358.]\n",
      " [ 20977.]\n",
      " [ 14158.]\n",
      " [  2041.]\n",
      " [   588.]\n",
      " [ 23223.]\n",
      " [ 95001.]\n",
      " [  1528.]\n",
      " [   674.]\n",
      " [ 19968.]\n",
      " [ 12029.]\n",
      " [  1602.]\n",
      " [ 27872.]\n",
      " [  3356.]\n",
      " [ 14615.]\n",
      " [ 15826.]\n",
      " [  3890.]\n",
      " [  7563.]\n",
      " [  6091.]\n",
      " [   864.]\n",
      " [  2891.]\n",
      " [  1866.]\n",
      " [ 47388.]\n",
      " [ 32122.]\n",
      " [  4060.]\n",
      " [   843.]\n",
      " [  4684.]\n",
      " [ 65216.]\n",
      " [ 47799.]\n",
      " [  4187.]\n",
      " [ 14033.]\n",
      " [  1982.]\n",
      " [  6684.]\n",
      " [  9249.]\n",
      " [  5332.]\n",
      " [ 19996.]\n",
      " [ 27747.]\n",
      " [126076.]\n",
      " [ 18032.]\n",
      " [ 22506.]\n",
      " [  1173.]\n",
      " [  2162.]\n",
      " [ 12522.]\n",
      " [  1289.]\n",
      " [ 65991.]\n",
      " [ 24670.]\n",
      " [ 30816.]\n",
      " [   615.]\n",
      " [ 12263.]\n",
      " [ 34676.]\n",
      " [  6907.]\n",
      " [  3246.]\n",
      " [ 13470.]\n",
      " [  5887.]\n",
      " [ 43421.]\n",
      " [ 55020.]\n",
      " [  2001.]\n",
      " [  2030.]\n",
      " [ 12216.]\n",
      " [  1219.]\n",
      " [ 30875.]\n",
      " [  9938.]\n",
      " [ 16454.]\n",
      " [  1437.]\n",
      " [  8762.]\n",
      " [ 37739.]\n",
      " [ 50384.]\n",
      " [ 15317.]\n",
      " [  3733.]\n",
      " [  4085.]\n",
      " [  3039.]\n",
      " [  1286.]]\n"
     ]
    },
    {
     "ename": "AttributeError",
     "evalue": "'NoneType' object has no attribute 'head'",
     "output_type": "error",
     "traceback": [
      "\u001b[1;31m---------------------------------------------------------------------------\u001b[0m",
      "\u001b[1;31mAttributeError\u001b[0m                            Traceback (most recent call last)",
      "\u001b[1;32m<ipython-input-33-75c2f140e816>\u001b[0m in \u001b[0;36m<module>\u001b[1;34m\u001b[0m\n\u001b[1;32m----> 1\u001b[1;33m \u001b[0mprint\u001b[0m \u001b[1;33m(\u001b[0m\u001b[0mx_GDP\u001b[0m\u001b[1;33m)\u001b[0m\u001b[1;33m.\u001b[0m\u001b[0mhead\u001b[0m\u001b[1;33m(\u001b[0m\u001b[1;33m)\u001b[0m\u001b[1;33m\u001b[0m\u001b[1;33m\u001b[0m\u001b[0m\n\u001b[0m",
      "\u001b[1;31mAttributeError\u001b[0m: 'NoneType' object has no attribute 'head'"
     ]
    }
   ],
   "source": [
    "print (x_GDP).head()"
   ]
  },
  {
   "cell_type": "code",
   "execution_count": 34,
   "metadata": {},
   "outputs": [
    {
     "name": "stdout",
     "output_type": "stream",
     "text": [
      "(139, 1)\n"
     ]
    }
   ],
   "source": [
    "print (format(x_GDP.shape))"
   ]
  },
  {
   "cell_type": "markdown",
   "metadata": {},
   "source": [
    "### plotting GDP values versus child_mortality"
   ]
  },
  {
   "cell_type": "code",
   "execution_count": 35,
   "metadata": {},
   "outputs": [
    {
     "data": {
      "image/png": "[encoded data removed]",
      "text/plain": [
       "<Figure size 432x288 with 1 Axes>"
      ]
     },
     "metadata": {
      "needs_background": "light"
     },
     "output_type": "display_data"
    }
   ],
   "source": [
    "plt.scatter(x_GDP, y)\n",
    "plt.ylabel('Child_mortality')\n",
    "plt.xlabel('GDP')\n",
    "plt.show();"
   ]
  },
  {
   "cell_type": "markdown",
   "metadata": {},
   "source": [
    "## Fitting a regression model"
   ]
  },
  {
   "cell_type": "code",
   "execution_count": 36,
   "metadata": {},
   "outputs": [
    {
     "data": {
      "text/plain": [
       "LinearRegression()"
      ]
     },
     "execution_count": 36,
     "metadata": {},
     "output_type": "execute_result"
    }
   ],
   "source": [
    "reg = LinearRegression()\n",
    "reg.fit(x_GDP,y)"
   ]
  },
  {
   "cell_type": "code",
   "execution_count": 37,
   "metadata": {},
   "outputs": [],
   "source": [
    "prediction_space = np.linspace(min(x_GDP), max(x_GDP)).reshape(-1, 1)"
   ]
  },
  {
   "cell_type": "code",
   "execution_count": 38,
   "metadata": {},
   "outputs": [
    {
     "data": {
      "image/png": "[encoded data removed]",
      "text/plain": [
       "<Figure size 432x288 with 1 Axes>"
      ]
     },
     "metadata": {
      "needs_background": "light"
     },
     "output_type": "display_data"
    }
   ],
   "source": [
    "plt.scatter(x_GDP, y, color ='blue')\n",
    "plt.plot(prediction_space, reg.predict(prediction_space),\n",
    "color='black', linewidth=3)\n",
    "plt.show()"
   ]
  },
  {
   "cell_type": "markdown",
   "metadata": {},
   "source": [
    "## Let us make a prediction using 12314.0 GDP and its effect on Child_mortality"
   ]
  },
  {
   "cell_type": "code",
   "execution_count": 39,
   "metadata": {},
   "outputs": [
    {
     "data": {
      "text/plain": [
       "array([[50.69659108]])"
      ]
     },
     "execution_count": 39,
     "metadata": {},
     "output_type": "execute_result"
    }
   ],
   "source": [
    "reg.predict ([[12314.0]])"
   ]
  },
  {
   "cell_type": "markdown",
   "metadata": {},
   "source": [
    "#### we got 124 for child_mortality rate"
   ]
  },
  {
   "cell_type": "markdown",
   "metadata": {},
   "source": [
    "## Using X_test, y_test, x_train, y_train"
   ]
  },
  {
   "cell_type": "code",
   "execution_count": 41,
   "metadata": {},
   "outputs": [],
   "source": [
    "from sklearn.model_selection import train_test_split"
   ]
  },
  {
   "cell_type": "code",
   "execution_count": 56,
   "metadata": {},
   "outputs": [],
   "source": [
    "X_train, X_test, y_train, y_test = train_test_split(x_GDP, y, test_size = 0.3, random_state=42)"
   ]
  },
  {
   "cell_type": "markdown",
   "metadata": {},
   "source": [
    "## The regressor"
   ]
  },
  {
   "cell_type": "code",
   "execution_count": 57,
   "metadata": {},
   "outputs": [],
   "source": [
    "reg = LinearRegression()"
   ]
  },
  {
   "cell_type": "code",
   "execution_count": 58,
   "metadata": {},
   "outputs": [
    {
     "data": {
      "text/plain": [
       "LinearRegression()"
      ]
     },
     "execution_count": 58,
     "metadata": {},
     "output_type": "execute_result"
    }
   ],
   "source": [
    "reg.fit(X_train, y_train)"
   ]
  },
  {
   "cell_type": "code",
   "execution_count": 59,
   "metadata": {},
   "outputs": [],
   "source": [
    "y_pred = reg.predict(X_test)"
   ]
  },
  {
   "cell_type": "code",
   "execution_count": 60,
   "metadata": {},
   "outputs": [
    {
     "name": "stdout",
     "output_type": "stream",
     "text": [
      "Prediction: [[  65.74707197]\n",
      " [  40.54636554]\n",
      " [  35.40049639]\n",
      " [  66.56177882]\n",
      " [   1.52575499]\n",
      " [  58.11860534]\n",
      " [  69.93436407]\n",
      " [  36.89942316]\n",
      " [  69.95276607]\n",
      " [  64.64629762]\n",
      " [  30.72136894]\n",
      " [  69.58807183]\n",
      " [  66.37775879]\n",
      " [  69.72023167]\n",
      " [  70.54664889]\n",
      " [  48.30699201]\n",
      " [   2.33042439]\n",
      " [  69.5830531 ]\n",
      " [  46.36809008]\n",
      " [  51.0438717 ]\n",
      " [  55.30644472]\n",
      " [  60.4372577 ]\n",
      " [  69.31204179]\n",
      " [   2.88081156]\n",
      " [ -86.93601844]\n",
      " [  54.44489641]\n",
      " [   8.85811667]\n",
      " [  45.30077391]\n",
      " [  48.80886481]\n",
      " [  46.2827717 ]\n",
      " [  47.75493193]\n",
      " [  32.95637583]\n",
      " [-138.92167644]\n",
      " [  13.77479724]\n",
      " [  41.82614119]\n",
      " [  69.37226652]\n",
      " [  47.54247244]\n",
      " [  -7.28378564]\n",
      " [  -7.97135138]\n",
      " [  51.39183685]\n",
      " [  64.15613518]\n",
      " [  63.59069182]]\n"
     ]
    }
   ],
   "source": [
    "print('Prediction: {}'.format(y_pred))"
   ]
  },
  {
   "cell_type": "markdown",
   "metadata": {},
   "source": [
    "# Calculating the R2 and RMSE"
   ]
  },
  {
   "cell_type": "code",
   "execution_count": 62,
   "metadata": {},
   "outputs": [],
   "source": [
    "from sklearn.metrics import mean_squared_error"
   ]
  },
  {
   "cell_type": "code",
   "execution_count": 63,
   "metadata": {},
   "outputs": [
    {
     "name": "stdout",
     "output_type": "stream",
     "text": [
      "R^2: 0.09680046323343328\n",
      "Root Mean Squared Error: 42.248932990334886\n"
     ]
    }
   ],
   "source": [
    "print(\"R^2: {}\".format(reg.score(X_test, y_test)))\n",
    "rmse = np.sqrt(mean_squared_error(y_test, y_pred))\n",
    "print(\"Root Mean Squared Error: {}\".format(rmse))"
   ]
  },
  {
   "cell_type": "code",
   "execution_count": 47,
   "metadata": {},
   "outputs": [],
   "source": [
    "y_pred1 = reg.predict([[12314.0]])"
   ]
  },
  {
   "cell_type": "code",
   "execution_count": 48,
   "metadata": {},
   "outputs": [
    {
     "name": "stdout",
     "output_type": "stream",
     "text": [
      "[[51.39183685]]\n"
     ]
    }
   ],
   "source": [
    "print (y_pred1)"
   ]
  }
 ],
 "metadata": {
  "kernelspec": {
   "display_name": "Python 3",
   "language": "python",
   "name": "python3"
  },
  "language_info": {
   "codemirror_mode": {
    "name": "ipython",
    "version": 3
   },
   "file_extension": ".py",
   "mimetype": "text/x-python",
   "name": "python",
   "nbconvert_exporter": "python",
   "pygments_lexer": "ipython3",
   "version": "3.8.3"
  }
 },
 "nbformat": 4,
 "nbformat_minor": 4
}
